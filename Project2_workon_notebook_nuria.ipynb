{
 "cells": [
  {
   "cell_type": "markdown",
   "metadata": {},
   "source": [
    "# Project 2. Air quality"
   ]
  },
  {
   "cell_type": "markdown",
   "metadata": {},
   "source": [
    "Insights on how to change air pollution\n",
    "\n",
    "By Dirk Gruhne and Nuria Rius. Ironhack 2020"
   ]
  },
  {
   "cell_type": "markdown",
   "metadata": {},
   "source": [
    " ##  Nuria's notebook"
   ]
  },
  {
   "cell_type": "raw",
   "metadata": {},
   "source": [
    "### Load modules and csv file.\n",
    "\n",
    "I am loading the csv file with values from 2020 from Madrid and Barcelona, modified with awk.\n",
    "awk lines:\n",
    "cat waqi-covid19-airqualitydata-2020.csv | awk -F\",\" '{ print $0}' |head -5|tail -1>header_short\n",
    "cat waqi-covid19-airqualitydata-2020.csv | awk -F\",\" '{ if ($3==\"Barcelona\"){ print $0}}' >Barcelona_data.csv\n",
    "cat waqi-covid19-airqualitydata-2020.csv | awk -F\",\" '{ if ($3==\"Madrid\"){ print $0}}' >Madrid_data.csv\n",
    "\n",
    "Finally I concatenated the three files."
   ]
  },
  {
   "cell_type": "code",
   "execution_count": 8,
   "metadata": {},
   "outputs": [],
   "source": [
    "import pandas as pd\n",
    "import numpy as np"
   ]
  },
  {
   "cell_type": "code",
   "execution_count": 9,
   "metadata": {},
   "outputs": [],
   "source": [
    "#Dirk and Guillem:\n",
    "#covid2020 = pd.read_csv(\"waqi-covid19-airqualitydata-2020.csv\", skiprows = 4)\n",
    "#covid2020\n",
    "#covid2020[\"City\"].str.contains(\"Madrid\")\n",
    "# the last line displays booleans\n",
    "#covid2020[covid2020[\"City\"].str.contains(\"Madrid\")].\n"
   ]
  },
  {
   "cell_type": "code",
   "execution_count": 10,
   "metadata": {},
   "outputs": [],
   "source": [
    "air_MB_2020=pd.read_csv(\"Madrid_Barcelona_data_shortheader.csv\")"
   ]
  },
  {
   "cell_type": "markdown",
   "metadata": {},
   "source": [
    "Exploring the data:"
   ]
  },
  {
   "cell_type": "code",
   "execution_count": 11,
   "metadata": {},
   "outputs": [
    {
     "data": {
      "text/html": [
       "<div>\n",
       "<style scoped>\n",
       "    .dataframe tbody tr th:only-of-type {\n",
       "        vertical-align: middle;\n",
       "    }\n",
       "\n",
       "    .dataframe tbody tr th {\n",
       "        vertical-align: top;\n",
       "    }\n",
       "\n",
       "    .dataframe thead th {\n",
       "        text-align: right;\n",
       "    }\n",
       "</style>\n",
       "<table border=\"1\" class=\"dataframe\">\n",
       "  <thead>\n",
       "    <tr style=\"text-align: right;\">\n",
       "      <th></th>\n",
       "      <th>Date</th>\n",
       "      <th>Country</th>\n",
       "      <th>City</th>\n",
       "      <th>Specie</th>\n",
       "      <th>count</th>\n",
       "      <th>min</th>\n",
       "      <th>max</th>\n",
       "      <th>median</th>\n",
       "      <th>variance</th>\n",
       "    </tr>\n",
       "  </thead>\n",
       "  <tbody>\n",
       "    <tr>\n",
       "      <th>0</th>\n",
       "      <td>2020-09-02</td>\n",
       "      <td>ES</td>\n",
       "      <td>Madrid</td>\n",
       "      <td>o3</td>\n",
       "      <td>88</td>\n",
       "      <td>2.5</td>\n",
       "      <td>53.2</td>\n",
       "      <td>31.3</td>\n",
       "      <td>1257.14</td>\n",
       "    </tr>\n",
       "    <tr>\n",
       "      <th>1</th>\n",
       "      <td>2020-10-13</td>\n",
       "      <td>ES</td>\n",
       "      <td>Madrid</td>\n",
       "      <td>o3</td>\n",
       "      <td>90</td>\n",
       "      <td>1.7</td>\n",
       "      <td>39.8</td>\n",
       "      <td>19.1</td>\n",
       "      <td>885.83</td>\n",
       "    </tr>\n",
       "    <tr>\n",
       "      <th>2</th>\n",
       "      <td>2020-11-10</td>\n",
       "      <td>ES</td>\n",
       "      <td>Madrid</td>\n",
       "      <td>o3</td>\n",
       "      <td>90</td>\n",
       "      <td>0.5</td>\n",
       "      <td>22.0</td>\n",
       "      <td>4.5</td>\n",
       "      <td>452.15</td>\n",
       "    </tr>\n",
       "    <tr>\n",
       "      <th>3</th>\n",
       "      <td>2020-03-21</td>\n",
       "      <td>ES</td>\n",
       "      <td>Madrid</td>\n",
       "      <td>o3</td>\n",
       "      <td>96</td>\n",
       "      <td>17.5</td>\n",
       "      <td>32.9</td>\n",
       "      <td>26.1</td>\n",
       "      <td>139.13</td>\n",
       "    </tr>\n",
       "    <tr>\n",
       "      <th>4</th>\n",
       "      <td>2020-04-26</td>\n",
       "      <td>ES</td>\n",
       "      <td>Madrid</td>\n",
       "      <td>o3</td>\n",
       "      <td>93</td>\n",
       "      <td>13.0</td>\n",
       "      <td>37.0</td>\n",
       "      <td>26.2</td>\n",
       "      <td>512.67</td>\n",
       "    </tr>\n",
       "  </tbody>\n",
       "</table>\n",
       "</div>"
      ],
      "text/plain": [
       "         Date Country    City Specie  count   min   max  median  variance\n",
       "0  2020-09-02      ES  Madrid     o3     88   2.5  53.2    31.3   1257.14\n",
       "1  2020-10-13      ES  Madrid     o3     90   1.7  39.8    19.1    885.83\n",
       "2  2020-11-10      ES  Madrid     o3     90   0.5  22.0     4.5    452.15\n",
       "3  2020-03-21      ES  Madrid     o3     96  17.5  32.9    26.1    139.13\n",
       "4  2020-04-26      ES  Madrid     o3     93  13.0  37.0    26.2    512.67"
      ]
     },
     "execution_count": 11,
     "metadata": {},
     "output_type": "execute_result"
    }
   ],
   "source": [
    "air_MB_2020.head()"
   ]
  },
  {
   "cell_type": "code",
   "execution_count": 15,
   "metadata": {},
   "outputs": [
    {
     "name": "stdout",
     "output_type": "stream",
     "text": [
      "<class 'pandas.core.frame.DataFrame'>\n",
      "RangeIndex: 8695 entries, 0 to 8694\n",
      "Data columns (total 9 columns):\n",
      " #   Column    Non-Null Count  Dtype  \n",
      "---  ------    --------------  -----  \n",
      " 0   Date      8695 non-null   object \n",
      " 1   Country   8695 non-null   object \n",
      " 2   City      8695 non-null   object \n",
      " 3   Specie    8695 non-null   object \n",
      " 4   count     8695 non-null   int64  \n",
      " 5   min       8695 non-null   float64\n",
      " 6   max       8695 non-null   float64\n",
      " 7   median    8695 non-null   float64\n",
      " 8   variance  8695 non-null   float64\n",
      "dtypes: float64(4), int64(1), object(4)\n",
      "memory usage: 611.5+ KB\n"
     ]
    }
   ],
   "source": [
    "# there are 8695 entries\n",
    "air_MB_2020.info()"
   ]
  },
  {
   "cell_type": "code",
   "execution_count": 16,
   "metadata": {},
   "outputs": [
    {
     "data": {
      "text/plain": [
       "Date        0\n",
       "Country     0\n",
       "City        0\n",
       "Specie      0\n",
       "count       0\n",
       "min         0\n",
       "max         0\n",
       "median      0\n",
       "variance    0\n",
       "dtype: int64"
      ]
     },
     "execution_count": 16,
     "metadata": {},
     "output_type": "execute_result"
    }
   ],
   "source": [
    "# there is no null data:\n",
    "\n",
    "air_MB_2020.isna().sum()"
   ]
  },
  {
   "cell_type": "code",
   "execution_count": 12,
   "metadata": {},
   "outputs": [
    {
     "data": {
      "text/plain": [
       "array(['o3', 'pm25', 'wind-speed', 'dew', 'temperature', 'pm10',\n",
       "       'humidity', 'wind speed', 'so2', 'pressure', 'wind-gust', 'co',\n",
       "       'wind gust', 'no2'], dtype=object)"
      ]
     },
     "execution_count": 12,
     "metadata": {},
     "output_type": "execute_result"
    }
   ],
   "source": [
    "air_MB_2020[\"Specie\"].unique()\n",
    "#there are recordings for 14 aspects"
   ]
  },
  {
   "cell_type": "code",
   "execution_count": 17,
   "metadata": {},
   "outputs": [],
   "source": [
    "# Out of the 14, 6 are pollutants:\n",
    "pollutants=['o3', 'pm25', 'pm10','so2' 'co','no2']\n",
    "# and 8 are weather conditions (with (wind gust and wind-gust)  (wind-speed and wind speed )\n",
    "\n",
    "weather_cond=['wind-speed','dew', 'temperature','humidity', 'wind speed', 'pressure', 'wind-gust', 'wind gust']"
   ]
  },
  {
   "cell_type": "markdown",
   "metadata": {},
   "source": [
    "change repeated \"Species\" to the hyphenated version:"
   ]
  },
  {
   "cell_type": "code",
   "execution_count": 20,
   "metadata": {},
   "outputs": [],
   "source": [
    "\n",
    "#change both repeats to the hyphenated version\n",
    "air_MB_2020.loc[air_MB_2020[\"Specie\"].str.contains(\"wind gust\"),[\"Specie\"]]=\"wind-gust\"\n",
    "air_MB_2020.loc[air_MB_2020[\"Specie\"].str.contains(\"wind speed\"),[\"Specie\"]]=\"wind-speed\""
   ]
  },
  {
   "cell_type": "code",
   "execution_count": 21,
   "metadata": {},
   "outputs": [
    {
     "data": {
      "text/plain": [
       "array(['o3', 'pm25', 'wind-speed', 'dew', 'temperature', 'pm10',\n",
       "       'humidity', 'so2', 'pressure', 'wind-gust', 'co', 'no2'],\n",
       "      dtype=object)"
      ]
     },
     "execution_count": 21,
     "metadata": {},
     "output_type": "execute_result"
    }
   ],
   "source": [
    "air_MB_2020[\"Specie\"].unique()"
   ]
  },
  {
   "cell_type": "code",
   "execution_count": 22,
   "metadata": {},
   "outputs": [],
   "source": [
    "#Now there are 12 different values for \"Specie\"\n",
    "#6 are pollutants:\n",
    "pollutants=['o3', 'pm25', 'pm10','so2' 'co','no2']\n",
    "# and 6 are weather conditions (with (wind gust and wind-gust)  (wind-speed and wind speed )\n",
    "\n",
    "weather_cond=['wind-speed','dew', 'temperature','humidity', 'pressure', 'wind-gust']"
   ]
  },
  {
   "cell_type": "markdown",
   "metadata": {},
   "source": [
    "count values for Barcelona and for Madrid\n"
   ]
  },
  {
   "cell_type": "code",
   "execution_count": 26,
   "metadata": {},
   "outputs": [
    {
     "data": {
      "text/html": [
       "<div>\n",
       "<style scoped>\n",
       "    .dataframe tbody tr th:only-of-type {\n",
       "        vertical-align: middle;\n",
       "    }\n",
       "\n",
       "    .dataframe tbody tr th {\n",
       "        vertical-align: top;\n",
       "    }\n",
       "\n",
       "    .dataframe thead th {\n",
       "        text-align: right;\n",
       "    }\n",
       "</style>\n",
       "<table border=\"1\" class=\"dataframe\">\n",
       "  <thead>\n",
       "    <tr style=\"text-align: right;\">\n",
       "      <th></th>\n",
       "      <th>count</th>\n",
       "    </tr>\n",
       "    <tr>\n",
       "      <th>City</th>\n",
       "      <th></th>\n",
       "    </tr>\n",
       "  </thead>\n",
       "  <tbody>\n",
       "    <tr>\n",
       "      <th>Barcelona</th>\n",
       "      <td>967302</td>\n",
       "    </tr>\n",
       "    <tr>\n",
       "      <th>Madrid</th>\n",
       "      <td>668407</td>\n",
       "    </tr>\n",
       "  </tbody>\n",
       "</table>\n",
       "</div>"
      ],
      "text/plain": [
       "            count\n",
       "City             \n",
       "Barcelona  967302\n",
       "Madrid     668407"
      ]
     },
     "execution_count": 26,
     "metadata": {},
     "output_type": "execute_result"
    }
   ],
   "source": [
    "air_MB_2020.groupby(\"City\").aggregate({\"count\":\"sum\"})"
   ]
  },
  {
   "cell_type": "markdown",
   "metadata": {},
   "source": [
    "The number of counts for differnet pollutants is highly variable. so2 has the lowest number of records"
   ]
  },
  {
   "cell_type": "code",
   "execution_count": 27,
   "metadata": {},
   "outputs": [
    {
     "data": {
      "text/html": [
       "<div>\n",
       "<style scoped>\n",
       "    .dataframe tbody tr th:only-of-type {\n",
       "        vertical-align: middle;\n",
       "    }\n",
       "\n",
       "    .dataframe tbody tr th {\n",
       "        vertical-align: top;\n",
       "    }\n",
       "\n",
       "    .dataframe thead th {\n",
       "        text-align: right;\n",
       "    }\n",
       "</style>\n",
       "<table border=\"1\" class=\"dataframe\">\n",
       "  <thead>\n",
       "    <tr style=\"text-align: right;\">\n",
       "      <th></th>\n",
       "      <th>count</th>\n",
       "    </tr>\n",
       "    <tr>\n",
       "      <th>Specie</th>\n",
       "      <th></th>\n",
       "    </tr>\n",
       "  </thead>\n",
       "  <tbody>\n",
       "    <tr>\n",
       "      <th>co</th>\n",
       "      <td>68673</td>\n",
       "    </tr>\n",
       "    <tr>\n",
       "      <th>dew</th>\n",
       "      <td>30762</td>\n",
       "    </tr>\n",
       "    <tr>\n",
       "      <th>humidity</th>\n",
       "      <td>198156</td>\n",
       "    </tr>\n",
       "    <tr>\n",
       "      <th>no2</th>\n",
       "      <td>204214</td>\n",
       "    </tr>\n",
       "    <tr>\n",
       "      <th>o3</th>\n",
       "      <td>147978</td>\n",
       "    </tr>\n",
       "    <tr>\n",
       "      <th>pm10</th>\n",
       "      <td>161421</td>\n",
       "    </tr>\n",
       "    <tr>\n",
       "      <th>pm25</th>\n",
       "      <td>76829</td>\n",
       "    </tr>\n",
       "    <tr>\n",
       "      <th>pressure</th>\n",
       "      <td>198202</td>\n",
       "    </tr>\n",
       "    <tr>\n",
       "      <th>so2</th>\n",
       "      <td>52343</td>\n",
       "    </tr>\n",
       "    <tr>\n",
       "      <th>temperature</th>\n",
       "      <td>198418</td>\n",
       "    </tr>\n",
       "    <tr>\n",
       "      <th>wind-gust</th>\n",
       "      <td>129410</td>\n",
       "    </tr>\n",
       "    <tr>\n",
       "      <th>wind-speed</th>\n",
       "      <td>169303</td>\n",
       "    </tr>\n",
       "  </tbody>\n",
       "</table>\n",
       "</div>"
      ],
      "text/plain": [
       "              count\n",
       "Specie             \n",
       "co            68673\n",
       "dew           30762\n",
       "humidity     198156\n",
       "no2          204214\n",
       "o3           147978\n",
       "pm10         161421\n",
       "pm25          76829\n",
       "pressure     198202\n",
       "so2           52343\n",
       "temperature  198418\n",
       "wind-gust    129410\n",
       "wind-speed   169303"
      ]
     },
     "execution_count": 27,
     "metadata": {},
     "output_type": "execute_result"
    }
   ],
   "source": [
    "air_MB_2020.groupby(\"Specie\").aggregate({\"count\":\"sum\"})"
   ]
  },
  {
   "cell_type": "code",
   "execution_count": 28,
   "metadata": {},
   "outputs": [
    {
     "data": {
      "text/plain": [
       "Int64Index([ 9, 10, 11,  3,  4,  8, 12,  1,  5,  7,\n",
       "            ...\n",
       "             7, 11,  1,  4,  5,  6,  9, 11, 12,  4],\n",
       "           dtype='int64', name='Date', length=8695)"
      ]
     },
     "execution_count": 28,
     "metadata": {},
     "output_type": "execute_result"
    }
   ],
   "source": [
    "#Extract the months from the Date column and create another column:\n",
    "#First, display\n",
    "#pandas.DatetimeIndex(data=None, freq=<object object>, tz=None, normalize=False, closed=None, ambiguous='raise', dayfirst=False, yearfirst=False, dtype=None, copy=False, name=None)\n",
    "pd.DatetimeIndex(air_MB_2020['Date']).month"
   ]
  },
  {
   "cell_type": "code",
   "execution_count": 29,
   "metadata": {},
   "outputs": [],
   "source": [
    "#Second, modify df:\n",
    "#extract the months from the Date column and create another column:\n",
    "air_MB_2020['month'] = pd.DatetimeIndex(air_MB_2020['Date']).month"
   ]
  },
  {
   "cell_type": "code",
   "execution_count": 32,
   "metadata": {},
   "outputs": [
    {
     "data": {
      "text/html": [
       "<div>\n",
       "<style scoped>\n",
       "    .dataframe tbody tr th:only-of-type {\n",
       "        vertical-align: middle;\n",
       "    }\n",
       "\n",
       "    .dataframe tbody tr th {\n",
       "        vertical-align: top;\n",
       "    }\n",
       "\n",
       "    .dataframe thead th {\n",
       "        text-align: right;\n",
       "    }\n",
       "</style>\n",
       "<table border=\"1\" class=\"dataframe\">\n",
       "  <thead>\n",
       "    <tr style=\"text-align: right;\">\n",
       "      <th></th>\n",
       "      <th>Date</th>\n",
       "      <th>Country</th>\n",
       "      <th>City</th>\n",
       "      <th>Specie</th>\n",
       "      <th>count</th>\n",
       "      <th>min</th>\n",
       "      <th>max</th>\n",
       "      <th>median</th>\n",
       "      <th>variance</th>\n",
       "      <th>month</th>\n",
       "    </tr>\n",
       "  </thead>\n",
       "  <tbody>\n",
       "    <tr>\n",
       "      <th>0</th>\n",
       "      <td>2020-09-02</td>\n",
       "      <td>ES</td>\n",
       "      <td>Madrid</td>\n",
       "      <td>o3</td>\n",
       "      <td>88</td>\n",
       "      <td>2.5</td>\n",
       "      <td>53.2</td>\n",
       "      <td>31.3</td>\n",
       "      <td>1257.14</td>\n",
       "      <td>9</td>\n",
       "    </tr>\n",
       "    <tr>\n",
       "      <th>1</th>\n",
       "      <td>2020-10-13</td>\n",
       "      <td>ES</td>\n",
       "      <td>Madrid</td>\n",
       "      <td>o3</td>\n",
       "      <td>90</td>\n",
       "      <td>1.7</td>\n",
       "      <td>39.8</td>\n",
       "      <td>19.1</td>\n",
       "      <td>885.83</td>\n",
       "      <td>10</td>\n",
       "    </tr>\n",
       "    <tr>\n",
       "      <th>2</th>\n",
       "      <td>2020-11-10</td>\n",
       "      <td>ES</td>\n",
       "      <td>Madrid</td>\n",
       "      <td>o3</td>\n",
       "      <td>90</td>\n",
       "      <td>0.5</td>\n",
       "      <td>22.0</td>\n",
       "      <td>4.5</td>\n",
       "      <td>452.15</td>\n",
       "      <td>11</td>\n",
       "    </tr>\n",
       "    <tr>\n",
       "      <th>3</th>\n",
       "      <td>2020-03-21</td>\n",
       "      <td>ES</td>\n",
       "      <td>Madrid</td>\n",
       "      <td>o3</td>\n",
       "      <td>96</td>\n",
       "      <td>17.5</td>\n",
       "      <td>32.9</td>\n",
       "      <td>26.1</td>\n",
       "      <td>139.13</td>\n",
       "      <td>3</td>\n",
       "    </tr>\n",
       "    <tr>\n",
       "      <th>4</th>\n",
       "      <td>2020-04-26</td>\n",
       "      <td>ES</td>\n",
       "      <td>Madrid</td>\n",
       "      <td>o3</td>\n",
       "      <td>93</td>\n",
       "      <td>13.0</td>\n",
       "      <td>37.0</td>\n",
       "      <td>26.2</td>\n",
       "      <td>512.67</td>\n",
       "      <td>4</td>\n",
       "    </tr>\n",
       "  </tbody>\n",
       "</table>\n",
       "</div>"
      ],
      "text/plain": [
       "         Date Country    City Specie  count   min   max  median  variance  \\\n",
       "0  2020-09-02      ES  Madrid     o3     88   2.5  53.2    31.3   1257.14   \n",
       "1  2020-10-13      ES  Madrid     o3     90   1.7  39.8    19.1    885.83   \n",
       "2  2020-11-10      ES  Madrid     o3     90   0.5  22.0     4.5    452.15   \n",
       "3  2020-03-21      ES  Madrid     o3     96  17.5  32.9    26.1    139.13   \n",
       "4  2020-04-26      ES  Madrid     o3     93  13.0  37.0    26.2    512.67   \n",
       "\n",
       "   month  \n",
       "0      9  \n",
       "1     10  \n",
       "2     11  \n",
       "3      3  \n",
       "4      4  "
      ]
     },
     "execution_count": 32,
     "metadata": {},
     "output_type": "execute_result"
    }
   ],
   "source": [
    "#show new column \"month\"\n",
    "air_MB_2020.head()"
   ]
  },
  {
   "cell_type": "code",
   "execution_count": 31,
   "metadata": {},
   "outputs": [
    {
     "data": {
      "text/html": [
       "<div>\n",
       "<style scoped>\n",
       "    .dataframe tbody tr th:only-of-type {\n",
       "        vertical-align: middle;\n",
       "    }\n",
       "\n",
       "    .dataframe tbody tr th {\n",
       "        vertical-align: top;\n",
       "    }\n",
       "\n",
       "    .dataframe thead th {\n",
       "        text-align: right;\n",
       "    }\n",
       "</style>\n",
       "<table border=\"1\" class=\"dataframe\">\n",
       "  <thead>\n",
       "    <tr style=\"text-align: right;\">\n",
       "      <th></th>\n",
       "      <th>count</th>\n",
       "    </tr>\n",
       "    <tr>\n",
       "      <th>month</th>\n",
       "      <th></th>\n",
       "    </tr>\n",
       "  </thead>\n",
       "  <tbody>\n",
       "    <tr>\n",
       "      <th>1</th>\n",
       "      <td>214471</td>\n",
       "    </tr>\n",
       "    <tr>\n",
       "      <th>2</th>\n",
       "      <td>88858</td>\n",
       "    </tr>\n",
       "    <tr>\n",
       "      <th>3</th>\n",
       "      <td>133510</td>\n",
       "    </tr>\n",
       "    <tr>\n",
       "      <th>4</th>\n",
       "      <td>130068</td>\n",
       "    </tr>\n",
       "    <tr>\n",
       "      <th>5</th>\n",
       "      <td>134578</td>\n",
       "    </tr>\n",
       "    <tr>\n",
       "      <th>6</th>\n",
       "      <td>129832</td>\n",
       "    </tr>\n",
       "    <tr>\n",
       "      <th>7</th>\n",
       "      <td>135110</td>\n",
       "    </tr>\n",
       "    <tr>\n",
       "      <th>8</th>\n",
       "      <td>135589</td>\n",
       "    </tr>\n",
       "    <tr>\n",
       "      <th>9</th>\n",
       "      <td>129164</td>\n",
       "    </tr>\n",
       "    <tr>\n",
       "      <th>10</th>\n",
       "      <td>136534</td>\n",
       "    </tr>\n",
       "    <tr>\n",
       "      <th>11</th>\n",
       "      <td>131120</td>\n",
       "    </tr>\n",
       "    <tr>\n",
       "      <th>12</th>\n",
       "      <td>136875</td>\n",
       "    </tr>\n",
       "  </tbody>\n",
       "</table>\n",
       "</div>"
      ],
      "text/plain": [
       "        count\n",
       "month        \n",
       "1      214471\n",
       "2       88858\n",
       "3      133510\n",
       "4      130068\n",
       "5      134578\n",
       "6      129832\n",
       "7      135110\n",
       "8      135589\n",
       "9      129164\n",
       "10     136534\n",
       "11     131120\n",
       "12     136875"
      ]
     },
     "execution_count": 31,
     "metadata": {},
     "output_type": "execute_result"
    }
   ],
   "source": [
    "#Except for February we have a similar amount of counts (Dirk, each count is an station measure?)\n",
    "air_MB_2020.groupby(\"month\").aggregate({\"count\":\"sum\"})\n",
    "\n"
   ]
  },
  {
   "cell_type": "code",
   "execution_count": null,
   "metadata": {},
   "outputs": [],
   "source": []
  },
  {
   "cell_type": "code",
   "execution_count": null,
   "metadata": {},
   "outputs": [],
   "source": []
  },
  {
   "cell_type": "code",
   "execution_count": null,
   "metadata": {},
   "outputs": [],
   "source": []
  },
  {
   "cell_type": "code",
   "execution_count": null,
   "metadata": {},
   "outputs": [],
   "source": []
  },
  {
   "cell_type": "code",
   "execution_count": null,
   "metadata": {},
   "outputs": [],
   "source": []
  }
 ],
 "metadata": {
  "kernelspec": {
   "display_name": "Python 3",
   "language": "python",
   "name": "python3"
  },
  "language_info": {
   "codemirror_mode": {
    "name": "ipython",
    "version": 3
   },
   "file_extension": ".py",
   "mimetype": "text/x-python",
   "name": "python",
   "nbconvert_exporter": "python",
   "pygments_lexer": "ipython3",
   "version": "3.8.5"
  },
  "toc": {
   "base_numbering": 1,
   "nav_menu": {},
   "number_sections": true,
   "sideBar": true,
   "skip_h1_title": false,
   "title_cell": "Table of Contents",
   "title_sidebar": "Contents",
   "toc_cell": false,
   "toc_position": {},
   "toc_section_display": true,
   "toc_window_display": false
  },
  "varInspector": {
   "cols": {
    "lenName": 16,
    "lenType": 16,
    "lenVar": 40
   },
   "kernels_config": {
    "python": {
     "delete_cmd_postfix": "",
     "delete_cmd_prefix": "del ",
     "library": "var_list.py",
     "varRefreshCmd": "print(var_dic_list())"
    },
    "r": {
     "delete_cmd_postfix": ") ",
     "delete_cmd_prefix": "rm(",
     "library": "var_list.r",
     "varRefreshCmd": "cat(var_dic_list()) "
    }
   },
   "types_to_exclude": [
    "module",
    "function",
    "builtin_function_or_method",
    "instance",
    "_Feature"
   ],
   "window_display": false
  }
 },
 "nbformat": 4,
 "nbformat_minor": 4
}
